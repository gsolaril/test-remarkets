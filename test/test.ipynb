{
 "cells": [
  {
   "cell_type": "code",
   "execution_count": 4,
   "metadata": {},
   "outputs": [],
   "source": [
    "import os, sys, numpy, pyRofex\n",
    "from configparser import ConfigParser\n",
    "from matplotlib.pyplot import figure, subplots, style\n",
    "from pandas import Series, DataFrame, Timestamp, Timedelta\n",
    "from pandas import to_datetime, date_range, merge, concat\n",
    "from pandas import Index, MultiIndex, TimedeltaIndex\n",
    "style.use(\"dark_background\")\n",
    "\n",
    "creds = ConfigParser()\n",
    "creds.read(\"../auth/credentials.ini\")\n",
    "creds = dict(creds[\"ROFEX\"])\n",
    "creds[\"environment\"] = pyRofex.Environment.REMARKET"
   ]
  },
  {
   "cell_type": "code",
   "execution_count": 6,
   "metadata": {},
   "outputs": [
    {
     "ename": "ApiException",
     "evalue": "Authentication fails. Incorrect User or Password",
     "output_type": "error",
     "traceback": [
      "\u001b[1;31m---------------------------------------------------------------------------\u001b[0m",
      "\u001b[1;31mApiException\u001b[0m                              Traceback (most recent call last)",
      "Cell \u001b[1;32mIn[6], line 1\u001b[0m\n\u001b[1;32m----> 1\u001b[0m client \u001b[38;5;241m=\u001b[39m \u001b[43mpyRofex\u001b[49m\u001b[38;5;241;43m.\u001b[39;49m\u001b[43minitialize\u001b[49m\u001b[43m(\u001b[49m\u001b[38;5;241;43m*\u001b[39;49m\u001b[38;5;241;43m*\u001b[39;49m\u001b[43mcreds\u001b[49m\u001b[43m)\u001b[49m\n\u001b[0;32m      2\u001b[0m client\n",
      "File \u001b[1;32mc:\\TECH\\Python\\Lib\\site-packages\\pyRofex\\service.py:47\u001b[0m, in \u001b[0;36minitialize\u001b[1;34m(user, password, account, environment, proxies, ssl_opt, active_token)\u001b[0m\n\u001b[0;32m     45\u001b[0m _validate_environment(environment)\n\u001b[0;32m     46\u001b[0m _set_environment_parameters(user, password, account, environment, proxies, ssl_opt)\n\u001b[1;32m---> 47\u001b[0m \u001b[38;5;28mglobals\u001b[39m\u001b[38;5;241m.\u001b[39menvironment_config[environment][\u001b[38;5;124m\"\u001b[39m\u001b[38;5;124mrest_client\u001b[39m\u001b[38;5;124m\"\u001b[39m] \u001b[38;5;241m=\u001b[39m \u001b[43mRestClient\u001b[49m\u001b[43m(\u001b[49m\u001b[43menvironment\u001b[49m\u001b[43m,\u001b[49m\u001b[43m \u001b[49m\u001b[43mactive_token\u001b[49m\u001b[43m)\u001b[49m\n\u001b[0;32m     48\u001b[0m \u001b[38;5;28mglobals\u001b[39m\u001b[38;5;241m.\u001b[39menvironment_config[environment][\u001b[38;5;124m\"\u001b[39m\u001b[38;5;124mws_client\u001b[39m\u001b[38;5;124m\"\u001b[39m] \u001b[38;5;241m=\u001b[39m WebSocketClient(environment)\n\u001b[0;32m     49\u001b[0m set_default_environment(environment)\n",
      "File \u001b[1;32mc:\\TECH\\Python\\Lib\\site-packages\\pyRofex\\clients\\rest_rfx.py:39\u001b[0m, in \u001b[0;36mRestClient.__init__\u001b[1;34m(self, environment, active_token)\u001b[0m\n\u001b[0;32m     37\u001b[0m \u001b[38;5;66;03m# Get the authentication Token.\u001b[39;00m\n\u001b[0;32m     38\u001b[0m \u001b[38;5;28;01mif\u001b[39;00m \u001b[38;5;129;01mnot\u001b[39;00m active_token:\n\u001b[1;32m---> 39\u001b[0m     \u001b[38;5;28;43mself\u001b[39;49m\u001b[38;5;241;43m.\u001b[39;49m\u001b[43mupdate_token\u001b[49m\u001b[43m(\u001b[49m\u001b[43m)\u001b[49m\n\u001b[0;32m     40\u001b[0m \u001b[38;5;28;01melse\u001b[39;00m:\n\u001b[0;32m     41\u001b[0m     \u001b[38;5;28mself\u001b[39m\u001b[38;5;241m.\u001b[39menvironment[\u001b[38;5;124m\"\u001b[39m\u001b[38;5;124mtoken\u001b[39m\u001b[38;5;124m\"\u001b[39m] \u001b[38;5;241m=\u001b[39m active_token\n",
      "File \u001b[1;32mc:\\TECH\\Python\\Lib\\site-packages\\pyRofex\\clients\\rest_rfx.py:371\u001b[0m, in \u001b[0;36mRestClient.update_token\u001b[1;34m(self)\u001b[0m\n\u001b[0;32m    365\u001b[0m response \u001b[38;5;241m=\u001b[39m requests\u001b[38;5;241m.\u001b[39mpost(\u001b[38;5;28mself\u001b[39m\u001b[38;5;241m.\u001b[39m_url(urls\u001b[38;5;241m.\u001b[39mauth),\n\u001b[0;32m    366\u001b[0m                          headers\u001b[38;5;241m=\u001b[39mheaders,\n\u001b[0;32m    367\u001b[0m                          verify\u001b[38;5;241m=\u001b[39m\u001b[38;5;28mself\u001b[39m\u001b[38;5;241m.\u001b[39menvironment[\u001b[38;5;124m\"\u001b[39m\u001b[38;5;124mssl\u001b[39m\u001b[38;5;124m\"\u001b[39m],\n\u001b[0;32m    368\u001b[0m                          proxies\u001b[38;5;241m=\u001b[39m\u001b[38;5;28mself\u001b[39m\u001b[38;5;241m.\u001b[39menvironment[\u001b[38;5;124m\"\u001b[39m\u001b[38;5;124mproxies\u001b[39m\u001b[38;5;124m\"\u001b[39m])\n\u001b[0;32m    370\u001b[0m \u001b[38;5;28;01mif\u001b[39;00m \u001b[38;5;129;01mnot\u001b[39;00m response\u001b[38;5;241m.\u001b[39mok:\n\u001b[1;32m--> 371\u001b[0m     \u001b[38;5;28;01mraise\u001b[39;00m ApiException(\u001b[38;5;124m\"\u001b[39m\u001b[38;5;124mAuthentication fails. Incorrect User or Password\u001b[39m\u001b[38;5;124m\"\u001b[39m)\n\u001b[0;32m    373\u001b[0m \u001b[38;5;28mself\u001b[39m\u001b[38;5;241m.\u001b[39menvironment[\u001b[38;5;124m\"\u001b[39m\u001b[38;5;124mtoken\u001b[39m\u001b[38;5;124m\"\u001b[39m] \u001b[38;5;241m=\u001b[39m response\u001b[38;5;241m.\u001b[39mheaders[\u001b[38;5;124m'\u001b[39m\u001b[38;5;124mX-Auth-Token\u001b[39m\u001b[38;5;124m'\u001b[39m]\n\u001b[0;32m    374\u001b[0m \u001b[38;5;28mself\u001b[39m\u001b[38;5;241m.\u001b[39menvironment[\u001b[38;5;124m\"\u001b[39m\u001b[38;5;124minitialized\u001b[39m\u001b[38;5;124m\"\u001b[39m] \u001b[38;5;241m=\u001b[39m \u001b[38;5;28;01mTrue\u001b[39;00m\n",
      "\u001b[1;31mApiException\u001b[0m: Authentication fails. Incorrect User or Password"
     ]
    }
   ],
   "source": [
    "client = pyRofex.initialize(**creds)\n",
    "client"
   ]
  },
  {
   "cell_type": "code",
   "execution_count": null,
   "metadata": {},
   "outputs": [],
   "source": []
  }
 ],
 "metadata": {
  "kernelspec": {
   "display_name": "Python 3",
   "language": "python",
   "name": "python3"
  },
  "language_info": {
   "codemirror_mode": {
    "name": "ipython",
    "version": 3
   },
   "file_extension": ".py",
   "mimetype": "text/x-python",
   "name": "python",
   "nbconvert_exporter": "python",
   "pygments_lexer": "ipython3",
   "version": "3.11.1"
  }
 },
 "nbformat": 4,
 "nbformat_minor": 2
}
